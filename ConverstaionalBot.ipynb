{
 "cells": [
  {
   "cell_type": "code",
   "execution_count": 2,
   "metadata": {},
   "outputs": [
    {
     "data": {
      "text/plain": [
       "True"
      ]
     },
     "execution_count": 2,
     "metadata": {},
     "output_type": "execute_result"
    }
   ],
   "source": [
    "import os\n",
    "from dotenv import load_dotenv\n",
    "load_dotenv()"
   ]
  },
  {
   "cell_type": "code",
   "execution_count": 9,
   "metadata": {},
   "outputs": [],
   "source": [
    "os.environ['OPENAI_API_KEY'] = os.getenv('OPENAI_API_KEY')"
   ]
  },
  {
   "cell_type": "code",
   "execution_count": 13,
   "metadata": {},
   "outputs": [
    {
     "name": "stderr",
     "output_type": "stream",
     "text": [
      "c:\\Users\\Admin\\miniconda3\\envs\\env-01\\lib\\site-packages\\tqdm\\auto.py:21: TqdmWarning: IProgress not found. Please update jupyter and ipywidgets. See https://ipywidgets.readthedocs.io/en/stable/user_install.html\n",
      "  from .autonotebook import tqdm as notebook_tqdm\n",
      "Parsing nodes: 100%|██████████| 3/3 [00:00<00:00, 191.97it/s]\n",
      "Generating embeddings: 100%|██████████| 3/3 [00:01<00:00,  1.98it/s]\n"
     ]
    }
   ],
   "source": [
    "\n",
    "from llama_index.core import SimpleDirectoryReader, VectorStoreIndex, StorageContext, load_index_from_storage\n",
    "\n",
    "PERSIST_DIR = './storage'\n",
    "if not os.path.exists(PERSIST_DIR):\n",
    "    # load documents and create index\n",
    "    documents = SimpleDirectoryReader(\"Data\").load_data()\n",
    "    index = VectorStoreIndex.from_documents(documents, show_progress = True)\n",
    "    # store it for consecutive use\n",
    "    index.storage_context.persist(persist_dir=PERSIST_DIR)\n",
    "else:\n",
    "    # load existing index\n",
    "    storage_context = StorageContext.from_defaults(persist_dir=PERSIST_DIR)\n",
    "    index = load_index_from_storage(storage_context)"
   ]
  },
  {
   "cell_type": "code",
   "execution_count": 75,
   "metadata": {},
   "outputs": [
    {
     "name": "stdout",
     "output_type": "stream",
     "text": [
      "{\n",
      "    \"CompanyName1\": \"Modaxo (Constellation Software, Canada)\",\n",
      "    \"JobTitle\": \"Full stack Developer\",\n",
      "    \"JobPeriod\": \"06/2021 - 04/2024\"\n",
      "},\n",
      "{\n",
      "    \"CompanyName2\": \"Virtusa (CIBC - Capital Market, Canada)\",\n",
      "    \"JobTitle\": \"Senior Application Developer\",\n",
      "    \"JobPeriod\": \"02/2020 - 06/2021\"\n",
      "}\n"
     ]
    }
   ],
   "source": [
    "from llama_index.core.chat_engine import ContextChatEngine\n",
    "from llama_index_client import ChatMessage, MessageRole\n",
    "\n",
    "from llama_index.core.memory import ChatMemoryBuffer\n",
    "\n",
    "Settings.llm = OpenAI(model=\"gpt-3.5-turbo\")\n",
    "Settings.embed_model = OpenAIEmbedding(model=\"text-embedding-3-small\")\n",
    "Settings.node_parser = SentenceSplitter(chunk_size=512, chunk_overlap=20)\n",
    "Settings.num_output = 512\n",
    "Settings.context_window = 3900\n",
    "\n",
    "# create index with Documents + LLM\n",
    "index2 = VectorStoreIndex.from_documents(\n",
    "    documents, embed_model=Settings.embed_model, llm=Settings.llm\n",
    ")\n",
    "chatRetreiver = index2.as_retriever()\n",
    "memory = ChatMemoryBuffer.from_defaults(token_limit=5500)\n",
    "\n",
    "messageHistory =  [ \n",
    "                    ChatMessage(\n",
    "                        role=MessageRole.SYSTEM,\n",
    "                        content=\n",
    "                                \"You are an expert assitant for extracting insights from resume in PDF format. \\n\"\n",
    "                                \"You extract data and return it in JSON format, as below \\n\"\n",
    "                                \"  {\\n\"\n",
    "                                \"    CompanyName1:\\n\"\n",
    "                                \"    JobTitle:\\n\"\n",
    "                                \"    JobPeriod:\\n\"\n",
    "                                \"  }\\n\"\n",
    "                                \"REMEMBER to return extracted data only from provided resume.\",\n",
    "                        additional_kwargs={\"2\":\"2\"}\n",
    "                        ),\n",
    "                    ChatMessage(\n",
    "                        role=MessageRole.USER,\n",
    "                        content=\"Hello assistant, we are having a insightful discussion about Ramya Anand today.\",\n",
    "                        additional_kwargs={\"2\":\"2\"}\n",
    "                        ),\n",
    "                    ChatMessage(\n",
    "                        role=MessageRole.ASSISTANT, \n",
    "                        content=\"Okay, sounds good.\",\n",
    "                        additional_kwargs={\"2\":\"2\"}\n",
    "                        ),\n",
    "                  ]\n",
    "\n",
    "newMessage = \"List the companies Ramya Anand has worked, her role, job period in Json format?\"\n",
    "\n",
    "chatEngine = ContextChatEngine(chatRetreiver, Settings.llm, memory= memory, prefix_messages= messageHistory)\n",
    "response3 = chatEngine.chat(newMessage)\n",
    "print(response3)\n"
   ]
  },
  {
   "cell_type": "code",
   "execution_count": 67,
   "metadata": {},
   "outputs": [
    {
     "name": "stdout",
     "output_type": "stream",
     "text": [
      "{\n",
      "    \"CompanyName3\": \"Bank of NewYork Mellon, US / India\",\n",
      "    \"JobTitle\": \"Lead - Application Development\",\n",
      "    \"JobPeriod\": \"07/2017 - 12/2019\"\n",
      "  },\n",
      "  {\n",
      "    \"CompanyName4\": \"iNautix Technologies, US / India\",\n",
      "    \"JobTitle\": \"Technical Lead\",\n",
      "    \"JobPeriod\": \"07/2014 - 06/2017\"\n",
      "  },\n",
      "  {\n",
      "    \"CompanyName5\": \"iNautix Technologies, US / India\",\n",
      "    \"JobTitle\": \"Senior Application Developer\",\n",
      "    \"JobPeriod\": \"04/2012 - 06/2014\"\n",
      "  },\n",
      "  {\n",
      "    \"CompanyName6\": \"iNautix Technologies, US / India\",\n",
      "    \"JobTitle\": \"Application Developer\",\n",
      "    \"JobPeriod\": \"07/2009 - 03/2012\"\n",
      "  }\n",
      "}\n"
     ]
    }
   ],
   "source": [
    "response4 = chatEngine.chat(\"What are the other companies she worked for apart from the ones listed already? \\n\"\n",
    "                            \"Return the response in same Json format, continue with the company serial numbers\")\n",
    "print(response4)"
   ]
  }
 ],
 "metadata": {
  "kernelspec": {
   "display_name": "env-01",
   "language": "python",
   "name": "python3"
  },
  "language_info": {
   "codemirror_mode": {
    "name": "ipython",
    "version": 3
   },
   "file_extension": ".py",
   "mimetype": "text/x-python",
   "name": "python",
   "nbconvert_exporter": "python",
   "pygments_lexer": "ipython3",
   "version": "3.9.19"
  }
 },
 "nbformat": 4,
 "nbformat_minor": 2
}
